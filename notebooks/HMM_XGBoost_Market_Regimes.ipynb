{
 "cells": [
  {
   "cell_type": "markdown",
   "id": "32d474e8",
   "metadata": {},
   "source": [
    "# Regime Prediction with HMM + XGBoost + Feature Selection\n",
    "This notebook uncovers market regimes using a Gaussian Hidden Markov Model (HMM), selects top features using model-based feature selection, and trains an XGBoost classifier to predict regimes."
   ]
  },
  {
   "cell_type": "code",
   "execution_count": 1,
   "id": "3608847b",
   "metadata": {},
   "outputs": [
    {
     "name": "stderr",
     "output_type": "stream",
     "text": [
      "/Users/nikita/Library/Python/3.9/lib/python/site-packages/urllib3/__init__.py:35: NotOpenSSLWarning: urllib3 v2 only supports OpenSSL 1.1.1+, currently the 'ssl' module is compiled with 'LibreSSL 2.8.3'. See: https://github.com/urllib3/urllib3/issues/3020\n",
      "  warnings.warn(\n"
     ]
    }
   ],
   "source": [
    "import numpy as np\n",
    "import pandas as pd\n",
    "import yfinance as yf\n",
    "from datetime import datetime\n",
    "from hmmlearn import hmm\n",
    "from xgboost import XGBClassifier\n",
    "from sklearn.model_selection import train_test_split\n",
    "from sklearn.metrics import classification_report\n",
    "from sklearn.feature_selection import SelectFromModel\n",
    "from sklearn.preprocessing import StandardScaler\n",
    "import matplotlib.pyplot as plt\n",
    "import seaborn as sns"
   ]
  },
  {
   "cell_type": "code",
   "execution_count": 2,
   "id": "5d71c155",
   "metadata": {},
   "outputs": [],
   "source": [
    "import sys\n",
    "import os\n",
    "\n",
    "# Add the repo root to Python path so you can import from backend/\n",
    "repo_root = os.path.abspath(os.path.join(os.getcwd(), '..'))\n",
    "sys.path.append(repo_root)\n",
    "\n",
    "from sklearn.cluster import DBSCAN\n",
    "from sklearn.preprocessing import StandardScaler\n",
    "from backend.data_fetcher import fetch_stock_data, DataFetcher\n",
    "from sklearn.decomposition import PCA\n",
    "import pandas as pd\n",
    "import matplotlib.pyplot as plt\n",
    "import seaborn as sns\n",
    "import numpy as np"
   ]
  },
  {
   "cell_type": "code",
   "execution_count": 3,
   "id": "3cb35989",
   "metadata": {},
   "outputs": [],
   "source": [
    "tickers = [\"AAPL\", \"MSFT\", \"GOOG\"]\n",
    "start = \"2020-01-01\"\n",
    "end = \"2023-01-01\"\n",
    "\n",
    "# Fetch data \n",
    "metrics = fetch_stock_data(tickers, start, end)\n",
    "prices = metrics['prices']\n",
    "returns = prices.pct_change().dropna()\n",
    "metrics['returns'] = returns\n",
    "# print(metrics)"
   ]
  },
  {
   "cell_type": "code",
   "execution_count": 6,
   "id": "4fffde75",
   "metadata": {},
   "outputs": [
    {
     "name": "stdout",
     "output_type": "stream",
     "text": [
      "Combined feature shape: (755, 10)\n",
      "                mean       std  roll_mean  roll_std       q10       q90  \\\n",
      "Date                                                                      \n",
      "2020-01-03 -0.009027  0.003820   0.005224   0.01244 -0.011906 -0.005870   \n",
      "2020-01-06  0.011737  0.011509   0.005224   0.01244  0.003661  0.021319   \n",
      "2020-01-07 -0.004815  0.004248   0.005224   0.01244 -0.008235 -0.001440   \n",
      "2020-01-08  0.013298  0.004693   0.005224   0.01244  0.009490  0.016055   \n",
      "2020-01-09  0.014926  0.005516   0.005224   0.01244  0.011334  0.019491   \n",
      "\n",
      "            avg_corr  avg_market_cap  avg_volume  avg_volatility  \n",
      "Date                                                              \n",
      "2020-01-03  0.667123    2.430514e+12  32926630.0        0.353537  \n",
      "2020-01-06  0.667123    2.430514e+12  32926630.0        0.353537  \n",
      "2020-01-07  0.667123    2.430514e+12  32926630.0        0.353537  \n",
      "2020-01-08  0.667123    2.430514e+12  32926630.0        0.353537  \n",
      "2020-01-09  0.667123    2.430514e+12  32926630.0        0.353537  \n"
     ]
    },
    {
     "name": "stderr",
     "output_type": "stream",
     "text": [
      "/var/folders/54/4gpjnqfj49sgvzbjhxtjjz1w0000gn/T/ipykernel_18508/300501881.py:17: FutureWarning: DataFrame.fillna with 'method' is deprecated and will raise in a future version. Use obj.ffill() or obj.bfill() instead.\n",
      "  features = pd.DataFrame({\n"
     ]
    }
   ],
   "source": [
    "# Step 1: Your original feature engineering function\n",
    "def create_features(returns_df):\n",
    "    mean = returns_df.mean(axis=1)\n",
    "    std = returns_df.std(axis=1)\n",
    "    rolling_mean = returns_df.rolling(5).mean().mean(axis=1)\n",
    "    rolling_std = returns_df.rolling(5).std().mean(axis=1)\n",
    "    q10 = returns_df.quantile(0.1, axis=1)\n",
    "    q90 = returns_df.quantile(0.9, axis=1)\n",
    "\n",
    "    correlations = []\n",
    "    for i in returns_df.columns:\n",
    "        for j in returns_df.columns:\n",
    "            if i < j:\n",
    "                correlations.append(returns_df[i].rolling(10).corr(returns_df[j]))\n",
    "    avg_corr = pd.concat(correlations, axis=1).mean(axis=1)\n",
    "\n",
    "    features = pd.DataFrame({\n",
    "        'mean': mean,\n",
    "        'std': std,\n",
    "        'roll_mean': rolling_mean,\n",
    "        'roll_std': rolling_std,\n",
    "        'q10': q10,\n",
    "        'q90': q90,\n",
    "        'avg_corr': avg_corr\n",
    "    }).fillna(method='ffill').fillna(method='bfill')\n",
    "    \n",
    "    return features\n",
    "\n",
    "# Step 2: Generate the engineered features\n",
    "features = create_features(returns)\n",
    "\n",
    "# Step 3: Create metadata dataframe from Yahoo Finance metrics\n",
    "market_caps = metrics['market_caps']\n",
    "volumes = metrics['volumes']\n",
    "volatilities = metrics['volatilities']\n",
    "returns = metrics['prices'].pct_change().dropna()\n",
    "\n",
    "meta_df = pd.DataFrame({\n",
    "    'market_cap': market_caps,\n",
    "    'volume': volumes,\n",
    "    'volatility': volatilities\n",
    "})\n",
    "\n",
    "# Make sure the order of tickers matches the columns in your returns\n",
    "meta_df = meta_df.loc[returns.columns]\n",
    "meta_df = meta_df.fillna(0)\n",
    "\n",
    "# Step 4: Collapse ticker-level info into a single row (average across tickers)\n",
    "avg_meta = {\n",
    "    'avg_market_cap': meta_df['market_cap'].mean(),\n",
    "    'avg_volume': meta_df['volume'].mean(),\n",
    "    'avg_volatility': meta_df['volatility'].mean()\n",
    "}\n",
    "\n",
    "# Step 5: Repeat metadata across all time rows to match shape of features\n",
    "meta_time_series = pd.DataFrame([avg_meta] * len(features), index=features.index)\n",
    "\n",
    "# Step 6: Combine everything\n",
    "full_features = pd.concat([features, meta_time_series], axis=1)\n",
    "\n",
    "print(\"Combined feature shape:\", full_features.shape)\n",
    "print(full_features.head())"
   ]
  },
  {
   "cell_type": "code",
   "execution_count": 11,
   "id": "5ba94d49",
   "metadata": {},
   "outputs": [
    {
     "name": "stderr",
     "output_type": "stream",
     "text": [
      "Model is not converging.  Current: 11111.257790409209 is not greater than 30338.183718063094. Delta is -19226.925927653887\n"
     ]
    }
   ],
   "source": [
    "from sklearn.preprocessing import StandardScaler\n",
    "from hmmlearn import hmm\n",
    "# Drop non-numeric columns (like 'date') before scaling\n",
    "full_features = full_features.drop(columns=[\"date\"], errors='ignore')\n",
    "\n",
    "# Normalize features\n",
    "scaler = StandardScaler()\n",
    "normalized_features = scaler.fit_transform(full_features)\n",
    "\n",
    "# init HMM model\n",
    "hmm_model = hmm.GaussianHMM(n_components=3, covariance_type=\"full\", n_iter=100, random_state=42)\n",
    "hmm_model.fit(normalized_features)\n",
    "hmm_labels = hmm_model.predict(normalized_features)\n",
    "\n",
    "# Store HMM regime labels in the DataFrame\n",
    "full_features[\"regime\"] = hmm_labels\n",
    "full_features[\"date\"] = full_features.index\n",
    "#print(full_features[[\"regime\"]].value_counts())"
   ]
  },
  {
   "cell_type": "code",
   "execution_count": 14,
   "id": "7bcbb1f8",
   "metadata": {},
   "outputs": [
    {
     "name": "stderr",
     "output_type": "stream",
     "text": [
      "/Users/nikita/Library/Python/3.9/lib/python/site-packages/xgboost/core.py:158: UserWarning: [20:17:34] WARNING: /Users/runner/work/xgboost/xgboost/src/learner.cc:740: \n",
      "Parameters: { \"use_label_encoder\" } are not used.\n",
      "\n",
      "  warnings.warn(smsg, UserWarning)\n"
     ]
    },
    {
     "name": "stdout",
     "output_type": "stream",
     "text": [
      "Classification Report (All Features)\n",
      "              precision    recall  f1-score   support\n",
      "\n",
      "           1       0.96      0.96      0.96       139\n",
      "           2       0.50      0.50      0.50        12\n",
      "\n",
      "    accuracy                           0.92       151\n",
      "   macro avg       0.73      0.73      0.73       151\n",
      "weighted avg       0.92      0.92      0.92       151\n",
      "\n"
     ]
    },
    {
     "name": "stderr",
     "output_type": "stream",
     "text": [
      "/Users/nikita/Library/Python/3.9/lib/python/site-packages/xgboost/core.py:158: UserWarning: [20:17:35] WARNING: /Users/runner/work/xgboost/xgboost/src/learner.cc:740: \n",
      "Parameters: { \"use_label_encoder\" } are not used.\n",
      "\n",
      "  warnings.warn(smsg, UserWarning)\n"
     ]
    },
    {
     "name": "stdout",
     "output_type": "stream",
     "text": [
      "Classification Report (Selected Features)\n",
      "              precision    recall  f1-score   support\n",
      "\n",
      "           1       0.96      0.95      0.96       139\n",
      "           2       0.50      0.58      0.54        12\n",
      "\n",
      "    accuracy                           0.92       151\n",
      "   macro avg       0.73      0.77      0.75       151\n",
      "weighted avg       0.93      0.92      0.92       151\n",
      "\n",
      "Original feature count: 10\n",
      "Selected feature count: 5\n"
     ]
    }
   ],
   "source": [
    "from sklearn.model_selection import train_test_split\n",
    "from sklearn.metrics import classification_report\n",
    "from sklearn.preprocessing import StandardScaler\n",
    "from xgboost import XGBClassifier\n",
    "from sklearn.feature_selection import SelectFromModel\n",
    "\n",
    "# Prepare features and labels\n",
    "X = full_features.drop(columns=[\"regime\", \"date\"])\n",
    "y = full_features[\"regime\"]\n",
    "\n",
    "# Normalize features\n",
    "scaler = StandardScaler()\n",
    "X_scaled = scaler.fit_transform(X)\n",
    "\n",
    "# Split data into training and testing sets\n",
    "X_train, X_test, y_train, y_test = train_test_split(X_scaled, y, test_size=0.2, shuffle=False)\n",
    "\n",
    "# Train XGBoost model on all features\n",
    "model_full = XGBClassifier(use_label_encoder=False, eval_metric=\"mlogloss\", random_state=42)\n",
    "model_full.fit(X_train, y_train)\n",
    "y_pred_full = model_full.predict(X_test)\n",
    "\n",
    "# Print classification report for all features\n",
    "print(\"Classification Report (All Features)\")\n",
    "print(classification_report(y_test, y_pred_full))\n",
    "\n",
    "# Feature selection using XGBoost\n",
    "selector = SelectFromModel(model_full, threshold=\"median\", prefit=True)\n",
    "X_train_selected = selector.transform(X_train)\n",
    "X_test_selected = selector.transform(X_test)\n",
    "\n",
    "# Train XGBoost model on selected features\n",
    "model_selected = XGBClassifier(use_label_encoder=False, eval_metric=\"mlogloss\", random_state=42)\n",
    "model_selected.fit(X_train_selected, y_train)\n",
    "y_pred_selected = model_selected.predict(X_test_selected)\n",
    "\n",
    "# Print classification report for selected features\n",
    "print(\"Classification Report (Selected Features)\")\n",
    "print(classification_report(y_test, y_pred_selected))\n",
    "\n",
    "# Compare feature counts\n",
    "print(f\"Original feature count: {X.shape[1]}\")\n",
    "print(f\"Selected feature count: {X_train_selected.shape[1]}\")"
   ]
  },
  {
   "cell_type": "markdown",
   "id": "7ddf3425",
   "metadata": {},
   "source": [
    "We used a model-based feature selection approach with XGBoost, a gradient boosting tree algorithm. After fitting the classifier to the full feature set, each feature is assigned an importance score based on how often it was used in decision tree splits and how much it contributed to improving accuracy. Leverage SelectFromModel to retain the most informative features, based on their relative importance. This helps reduce dimensionality and improve model performance"
   ]
  },
  {
   "cell_type": "code",
   "execution_count": 23,
   "id": "dc593235",
   "metadata": {},
   "outputs": [
    {
     "name": "stdout",
     "output_type": "stream",
     "text": [
      "=== Model Regime Evaluation ===\n",
      "Adjusted Rand Index (ARI): 0.4136\n",
      "Normalized Mutual Info (NMI): 0.2114\n",
      "🟨 STABLE_BEAR Regime\n",
      "  • Average Return: -0.14%\n",
      "  • Volatility: 2.07%\n",
      "  • Duration: 139 days\n",
      "  • Stability: 90.73%\n",
      "\n",
      "🟨 STABLE_BULL Regime\n",
      "  • Average Return: 0.98%\n",
      "  • Volatility: 3.38%\n",
      "  • Duration: 12 days\n",
      "  • Stability: 90.73%\n",
      "\n",
      "=== Model Regime Evaluation ===\n",
      "Adjusted Rand Index (ARI): 0.4479\n",
      "Normalized Mutual Info (NMI): 0.2425\n",
      "🟨 STABLE_BEAR Regime\n",
      "  • Average Return: -0.15%\n",
      "  • Volatility: 2.07%\n",
      "  • Duration: 137 days\n",
      "  • Stability: 90.73%\n",
      "\n",
      "🟨 STABLE_BULL Regime\n",
      "  • Average Return: 0.95%\n",
      "  • Volatility: 3.21%\n",
      "  • Duration: 14 days\n",
      "  • Stability: 90.73%\n",
      "\n"
     ]
    },
    {
     "data": {
      "text/plain": [
       "{1: {'label': 'STABLE_BEAR',\n",
       "  'avg_return': -0.14946076720123974,\n",
       "  'volatility': 2.071021045505832,\n",
       "  'duration': 137,\n",
       "  'stability': 90.72847682119205},\n",
       " 2: {'label': 'STABLE_BULL',\n",
       "  'avg_return': 0.9538338480640483,\n",
       "  'volatility': 3.213268466477327,\n",
       "  'duration': 14,\n",
       "  'stability': 90.72847682119205}}"
      ]
     },
     "execution_count": 23,
     "metadata": {},
     "output_type": "execute_result"
    }
   ],
   "source": [
    "from sklearn.metrics import silhouette_score, adjusted_rand_score, normalized_mutual_info_score\n",
    "\n",
    "def calculate_regime_stats(returns_df, predicted_regimes):\n",
    "    regimes = np.unique(predicted_regimes)\n",
    "    stats = {}\n",
    "    returns_mean = returns_df.mean(axis=1)\n",
    "\n",
    "    for regime in regimes:\n",
    "        mask = predicted_regimes == regime\n",
    "        regime_returns = returns_mean[mask]\n",
    "\n",
    "        avg_return = regime_returns.mean() * 100\n",
    "        volatility = regime_returns.std() * 100\n",
    "        duration = mask.sum()\n",
    "        transitions = np.sum(predicted_regimes[:-1] != predicted_regimes[1:])\n",
    "        stability = (1 - transitions / len(predicted_regimes)) * 100\n",
    "\n",
    "        label = \"STABLE_BULL\" if avg_return > 0 and volatility < 15 else \\\n",
    "                \"VOLATILE_BULL\" if avg_return > 0 else \\\n",
    "                \"STABLE_BEAR\" if volatility < 15 else \\\n",
    "                \"VOLATILE_BEAR\"\n",
    "\n",
    "        stats[regime] = {\n",
    "            \"label\": label,\n",
    "            \"avg_return\": avg_return,\n",
    "            \"volatility\": volatility,\n",
    "            \"duration\": duration,\n",
    "            \"stability\": stability\n",
    "        }\n",
    "\n",
    "    return stats\n",
    "\n",
    "def evaluate_regime_model(results_df, returns_df=None, regime_col='predicted_regime', true_col='true_regime'):\n",
    "    print(\"=== Model Regime Evaluation ===\")\n",
    "\n",
    "    if true_col in results_df.columns:\n",
    "        y_true = results_df[true_col]\n",
    "        y_pred = results_df[regime_col]\n",
    "\n",
    "        ari = adjusted_rand_score(y_true, y_pred)\n",
    "        nmi = normalized_mutual_info_score(y_true, y_pred)\n",
    "        print(f\"Adjusted Rand Index (ARI): {ari:.4f}\")\n",
    "        print(f\"Normalized Mutual Info (NMI): {nmi:.4f}\")\n",
    "\n",
    "    if returns_df is not None:\n",
    "        test_returns = returns_df.loc[results_df.index]\n",
    "        predicted_regimes = results_df[regime_col].values\n",
    "        stats = calculate_regime_stats(test_returns, predicted_regimes)\n",
    "\n",
    "        for regime, info in stats.items():\n",
    "            print(f\"🟨 {info['label']} Regime\")\n",
    "            print(f\"  • Average Return: {info['avg_return']:.2f}%\")\n",
    "            print(f\"  • Volatility: {info['volatility']:.2f}%\")\n",
    "            print(f\"  • Duration: {info['duration']} days\")\n",
    "            print(f\"  • Stability: {info['stability']:.2f}%\\n\")\n",
    "\n",
    "        return stats\n",
    "\n",
    "results_full = pd.DataFrame({\n",
    "    \"date\": full_features[\"date\"].iloc[-len(y_test):],\n",
    "    \"true_regime\": y_test.values,\n",
    "    \"predicted_regime\": y_pred_full\n",
    "}).set_index(\"date\")\n",
    "\n",
    "# Evaluate model with regime stats\n",
    "evaluate_regime_model(\n",
    "    results_df=results_full,\n",
    "    returns_df=returns,\n",
    "    regime_col='predicted_regime',\n",
    "    true_col='true_regime'\n",
    ")\n",
    "\n",
    "results_select = pd.DataFrame({\n",
    "    \"date\": full_features[\"date\"].iloc[-len(y_test):],\n",
    "    \"true_regime\": y_test.values,\n",
    "    \"predicted_regime\": y_pred_selected\n",
    "}).set_index(\"date\")\n",
    "\n",
    "# Evaluate model with regime stats\n",
    "evaluate_regime_model(\n",
    "    results_df=results_select,\n",
    "    returns_df=returns,\n",
    "    regime_col='predicted_regime',\n",
    "    true_col='true_regime'\n",
    ")"
   ]
  },
  {
   "cell_type": "code",
   "execution_count": 24,
   "id": "9fe7cfcb",
   "metadata": {},
   "outputs": [
    {
     "name": "stdout",
     "output_type": "stream",
     "text": [
      "              precision    recall  f1-score   support\n",
      "\n",
      "           1       0.96      0.95      0.96       139\n",
      "           2       0.50      0.58      0.54        12\n",
      "\n",
      "    accuracy                           0.92       151\n",
      "   macro avg       0.73      0.77      0.75       151\n",
      "weighted avg       0.93      0.92      0.92       151\n",
      "\n"
     ]
    }
   ],
   "source": [
    "from sklearn.metrics import classification_report, accuracy_score, f1_score, adjusted_rand_score, normalized_mutual_info_score\n",
    "\n",
    "print(classification_report(y_test, y_pred_selected))\n",
    "\n",
    "accuracy = accuracy_score(y_test, y_pred_selected)\n",
    "f1 = f1_score(y_test, y_pred_selected, average=\"weighted\")\n",
    "ari = adjusted_rand_score(y_test, y_pred_selected)\n",
    "nmi = normalized_mutual_info_score(y_test, y_pred_selected)"
   ]
  },
  {
   "cell_type": "markdown",
   "id": "d2ac63d0",
   "metadata": {},
   "source": [
    "•\tClass 1 (the dominant regime) has the highest F1-score of 0.96, indicating the model performs very confidently and accurately in the most frequently occurring market regime.\n",
    "\n",
    "•\tOverall accuracy of 0.92 is strong.\n",
    "\n",
    "•\tWeighted avg F1 = 0.92 means performance is consistent across imbalanced class sizes."
   ]
  },
  {
   "cell_type": "code",
   "execution_count": 25,
   "id": "d6ff0788",
   "metadata": {},
   "outputs": [
    {
     "data": {
      "image/png": "[encoded data removed]",
      "text/plain": [
       "<Figure size 1400x500 with 1 Axes>"
      ]
     },
     "metadata": {},
     "output_type": "display_data"
    }
   ],
   "source": [
    "# Visualize true vs predicted regimes\n",
    "results = pd.DataFrame({\n",
    "    \"date\": full_features[\"date\"].iloc[-len(y_test):],\n",
    "    \"true_regime\": y_test.values,\n",
    "    \"predicted_regime\": y_pred_full\n",
    "}).set_index(\"date\")\n",
    "\n",
    "plt.figure(figsize=(14, 5))\n",
    "plt.plot(results.index, results[\"true_regime\"], label=\"True Regime\", alpha=0.6)\n",
    "plt.plot(results.index, results[\"predicted_regime\"], label=\"Predicted Regime\", linestyle=\"--\", alpha=0.6)\n",
    "plt.legend()\n",
    "plt.title(\"True vs Predicted Market Regimes (HMM → XGBoost)\")\n",
    "plt.grid(True)\n",
    "plt.show()\n"
   ]
  },
  {
   "cell_type": "markdown",
   "id": "e9f8fb7c",
   "metadata": {},
   "source": [
    "Source:\n",
    "[1] Xiyao Fan, Classifying and Predicting Stock Market States Using HMM and XGBoost, https://medium.com/@xf600/classifying-and-predicting-stock-market-states-using-hmm-and-xgboost-c23bd4af68ed"
   ]
  }
 ],
 "metadata": {
  "kernelspec": {
   "display_name": "Python 3",
   "language": "python",
   "name": "python3"
  },
  "language_info": {
   "codemirror_mode": {
    "name": "ipython",
    "version": 3
   },
   "file_extension": ".py",
   "mimetype": "text/x-python",
   "name": "python",
   "nbconvert_exporter": "python",
   "pygments_lexer": "ipython3",
   "version": "3.9.6"
  }
 },
 "nbformat": 4,
 "nbformat_minor": 5
}
